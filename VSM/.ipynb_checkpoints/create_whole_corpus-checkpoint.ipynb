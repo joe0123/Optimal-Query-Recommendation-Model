{
 "cells": [
  {
   "cell_type": "code",
   "execution_count": 2,
   "metadata": {},
   "outputs": [],
   "source": [
    "import pandas as pd\n",
    "import numpy as np\n",
    "import re\n",
    "\n",
    "from tqdm import tqdm\n"
   ]
  },
  {
   "cell_type": "code",
   "execution_count": 3,
   "metadata": {},
   "outputs": [],
   "source": [
    "df = pd.read_csv('task2_trainset.csv')"
   ]
  },
  {
   "cell_type": "code",
   "execution_count": 4,
   "metadata": {},
   "outputs": [
    {
     "name": "stderr",
     "output_type": "stream",
     "text": [
      "100%|██████████| 7000/7000 [00:01<00:00, 3963.19it/s]\n"
     ]
    }
   ],
   "source": [
    "all_words = []\n",
    "for ab in tqdm(df['Abstract']):\n",
    "\n",
    "    abb = re.sub(r'[^\\w\\s]',' ',ab).lower().split(' ')\n",
    "    abbb = np.unique(abb)#, return_counts=True)\n",
    "    all_words += list(abbb)"
   ]
  },
  {
   "cell_type": "code",
   "execution_count": 5,
   "metadata": {},
   "outputs": [],
   "source": [
    "lstt_word = list(np.unique(all_words))"
   ]
  },
  {
   "cell_type": "code",
   "execution_count": 9,
   "metadata": {},
   "outputs": [
    {
     "data": {
      "text/plain": [
       "''"
      ]
     },
     "execution_count": 9,
     "metadata": {},
     "output_type": "execute_result"
    }
   ],
   "source": [
    "print(lstt_word[0])"
   ]
  },
  {
   "cell_type": "code",
   "execution_count": 6,
   "metadata": {},
   "outputs": [
    {
     "name": "stderr",
     "output_type": "stream",
     "text": [
      "100%|██████████| 27223/27223 [00:00<00:00, 197651.58it/s]\n"
     ]
    }
   ],
   "source": [
    "with open('vocab.all', 'w') as fp:\n",
    "    fp.writelines('utf8\\n')\n",
    "    for w in tqdm(lstt_word[1:]):\n",
    "        fp.writelines(w+'\\n')"
   ]
  },
  {
   "cell_type": "code",
   "execution_count": 7,
   "metadata": {},
   "outputs": [],
   "source": [
    "inverted_file = list([] for i in range(len(lstt_word)))"
   ]
  },
  {
   "cell_type": "code",
   "execution_count": 8,
   "metadata": {},
   "outputs": [
    {
     "name": "stderr",
     "output_type": "stream",
     "text": [
      "100%|██████████| 7000/7000 [02:45<00:00, 42.26it/s]\n"
     ]
    }
   ],
   "source": [
    "for index, ab in tqdm(enumerate(df['Abstract']), total=len(df['Abstract'])):\n",
    "    abb = re.sub(r'[^\\w\\s]',' ',ab).lower().split(' ')\n",
    "    w,c = np.unique(abb, return_counts=True)\n",
    "    for _w, _c in zip(w,c):\n",
    "#         print(_w,_c)\n",
    "        idx = lstt_word.index(_w)\n",
    "#         print(idx)\n",
    "        inverted_file[idx].append([index, _c])\n",
    "#     break"
   ]
  },
  {
   "cell_type": "code",
   "execution_count": 8,
   "metadata": {},
   "outputs": [
    {
     "name": "stderr",
     "output_type": "stream",
     "text": [
      "100%|██████████| 27223/27223 [00:04<00:00, 6320.23it/s]\n"
     ]
    }
   ],
   "source": [
    "with open('inverted_file', 'w') as fp:\n",
    "    for index, count in tqdm(enumerate(inverted_file[1:]), total=len(inverted_file[1:])):\n",
    "        i = index + 1\n",
    "#         print(str(i) + ' -1 ' + str(len(count)) + '\\n')\n",
    "        fp.writelines(str(i) + ' -1 ' + str(len(count)) + '\\n')\n",
    "        for c in count:\n",
    "#             print(str(c[0]) + ' ' + str(c[1]) + '\\n')\n",
    "            fp.writelines(str(c[0]) + ' ' + str(c[1]) + '\\n')"
   ]
  },
  {
   "cell_type": "code",
   "execution_count": 9,
   "metadata": {},
   "outputs": [
    {
     "name": "stderr",
     "output_type": "stream",
     "text": [
      "100%|██████████| 7000/7000 [00:00<00:00, 187487.25it/s]\n"
     ]
    }
   ],
   "source": [
    "with open('file-list', 'w') as fp:\n",
    "    for fileid in tqdm(df['Id']):\n",
    "        fp.writelines(fileid + '\\n')"
   ]
  },
  {
   "cell_type": "code",
   "execution_count": null,
   "metadata": {},
   "outputs": [],
   "source": []
  }
 ],
 "metadata": {
  "kernelspec": {
   "display_name": "Python 3",
   "language": "python",
   "name": "python3"
  },
  "language_info": {
   "codemirror_mode": {
    "name": "ipython",
    "version": 3
   },
   "file_extension": ".py",
   "mimetype": "text/x-python",
   "name": "python",
   "nbconvert_exporter": "python",
   "pygments_lexer": "ipython3",
   "version": "3.7.3"
  }
 },
 "nbformat": 4,
 "nbformat_minor": 2
}
