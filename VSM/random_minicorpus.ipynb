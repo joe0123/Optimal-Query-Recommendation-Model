{
 "cells": [
  {
   "cell_type": "code",
   "execution_count": 13,
   "metadata": {},
   "outputs": [],
   "source": [
    "import pandas as pd\n",
    "import numpy as np\n",
    "import re\n",
    "import os\n",
    "from tqdm import tqdm\n"
   ]
  },
  {
   "cell_type": "code",
   "execution_count": 2,
   "metadata": {},
   "outputs": [],
   "source": [
    "IDs = ['D00076', 'D01032', 'D01350', 'D02582', 'D05005']"
   ]
  },
  {
   "cell_type": "code",
   "execution_count": 3,
   "metadata": {},
   "outputs": [],
   "source": [
    "df_whole = pd.read_csv('task2_trainset.csv')"
   ]
  },
  {
   "cell_type": "code",
   "execution_count": 4,
   "metadata": {},
   "outputs": [],
   "source": [
    "df_whole = df_whole.set_index('Id')"
   ]
  },
  {
   "cell_type": "code",
   "execution_count": 5,
   "metadata": {},
   "outputs": [],
   "source": [
    "df_mini = df_whole.loc[IDs]"
   ]
  },
  {
   "cell_type": "code",
   "execution_count": 6,
   "metadata": {},
   "outputs": [],
   "source": [
    "def get_all_unique_words(df):\n",
    "    all_words = []\n",
    "    for ab in tqdm(df['Abstract']):\n",
    "\n",
    "        abb = re.sub(r'[^\\w\\s]',' ',ab).lower().split(' ')\n",
    "        abbb = np.unique(abb)#, return_counts=True)\n",
    "        all_words += list(abbb)\n",
    "    return all_words"
   ]
  },
  {
   "cell_type": "code",
   "execution_count": 9,
   "metadata": {},
   "outputs": [],
   "source": [
    "def create_file_list(df, path):\n",
    "    with open(path+'file-list', 'w') as fp:\n",
    "        for fileid in tqdm(df['Id']):\n",
    "            fp.writelines(fileid + '\\n')"
   ]
  },
  {
   "cell_type": "code",
   "execution_count": 10,
   "metadata": {},
   "outputs": [],
   "source": [
    "def create_vocab_all(all_words, path):\n",
    "    lstt_word = list(np.unique(all_words))\n",
    "    with open(path+'vocab.all', 'w') as fp:\n",
    "        fp.writelines('utf8\\n')\n",
    "        for w in tqdm(lstt_word[1:]):\n",
    "            fp.writelines(w+'\\n')\n",
    "    return lstt_word"
   ]
  },
  {
   "cell_type": "code",
   "execution_count": 11,
   "metadata": {},
   "outputs": [],
   "source": [
    "def create_inverted_file(df, lstt_word, path):\n",
    "    inverted_file = list([] for i in range(len(lstt_word)))\n",
    "    for index, ab in tqdm(enumerate(df['Abstract']), total=len(df['Abstract'])):\n",
    "        abb = re.sub(r'[^\\w\\s]',' ',ab).lower().split(' ')\n",
    "        w,c = np.unique(abb, return_counts=True)\n",
    "        for _w, _c in zip(w,c):\n",
    "            idx = lstt_word.index(_w)\n",
    "            inverted_file[idx].append([index, _c])\n",
    "    with open(path+'inverted-file', 'w') as fp:\n",
    "        for index, count in tqdm(enumerate(inverted_file[1:]), total=len(inverted_file[1:])):\n",
    "            i = index + 1\n",
    "            fp.writelines(str(i) + ' -1 ' + str(len(count)) + '\\n')\n",
    "            for c in count:\n",
    "                fp.writelines(str(c[0]) + ' ' + str(c[1]) + '\\n')"
   ]
  },
  {
   "cell_type": "code",
   "execution_count": 15,
   "metadata": {},
   "outputs": [
    {
     "name": "stderr",
     "output_type": "stream",
     "text": [
      "100%|██████████| 100/100 [00:00<00:00, 3126.27it/s]\n",
      "100%|██████████| 100/100 [00:00<00:00, 92917.68it/s]\n",
      "100%|██████████| 3418/3418 [00:00<00:00, 193988.40it/s]\n",
      "100%|██████████| 100/100 [00:00<00:00, 145.36it/s]\n",
      "100%|██████████| 3418/3418 [00:00<00:00, 35980.02it/s]\n",
      "100%|██████████| 100/100 [00:00<00:00, 3186.00it/s]\n",
      "100%|██████████| 100/100 [00:00<00:00, 117950.06it/s]\n",
      "100%|██████████| 3441/3441 [00:00<00:00, 199169.24it/s]\n",
      "100%|██████████| 100/100 [00:00<00:00, 149.41it/s]\n",
      "100%|██████████| 3441/3441 [00:00<00:00, 36602.44it/s]\n",
      "100%|██████████| 100/100 [00:00<00:00, 3118.16it/s]\n",
      "100%|██████████| 100/100 [00:00<00:00, 103206.30it/s]\n",
      "100%|██████████| 3308/3308 [00:00<00:00, 199636.80it/s]\n",
      "100%|██████████| 100/100 [00:00<00:00, 142.77it/s]\n",
      "100%|██████████| 3308/3308 [00:00<00:00, 35362.13it/s]\n",
      "100%|██████████| 100/100 [00:00<00:00, 3291.04it/s]\n",
      "100%|██████████| 100/100 [00:00<00:00, 108464.03it/s]\n",
      "100%|██████████| 3379/3379 [00:00<00:00, 197855.02it/s]\n",
      "100%|██████████| 100/100 [00:00<00:00, 165.46it/s]\n",
      "100%|██████████| 3379/3379 [00:00<00:00, 37250.32it/s]\n",
      "100%|██████████| 100/100 [00:00<00:00, 3386.14it/s]\n",
      "100%|██████████| 100/100 [00:00<00:00, 135038.76it/s]\n",
      "100%|██████████| 3255/3255 [00:00<00:00, 195375.65it/s]\n",
      "100%|██████████| 100/100 [00:00<00:00, 160.90it/s]\n",
      "100%|██████████| 3255/3255 [00:00<00:00, 35876.07it/s]\n"
     ]
    }
   ],
   "source": [
    "for i in range(5):\n",
    "    index = i+1\n",
    "    df_sample = df_whole.sample(n=95, random_state=i)\n",
    "    df_sample = df_sample.append(df_mini)\n",
    "    df_sample = df_sample.sort_index(axis = 0)\n",
    "    df_sample = df_sample.reset_index()\n",
    "    path = 'mini_corpus_'+str(i+1) + '/'\n",
    "    os.mkdir(path)\n",
    "    sample_all_words = get_all_unique_words(df_sample)\n",
    "    create_file_list(df_sample, path)\n",
    "    sample_lstt_word = create_vocab_all(sample_all_words, path)\n",
    "    create_inverted_file(df_sample, sample_lstt_word, path)"
   ]
  },
  {
   "cell_type": "code",
   "execution_count": null,
   "metadata": {},
   "outputs": [],
   "source": [
    "q = '1ufas'"
   ]
  }
 ],
 "metadata": {
  "kernelspec": {
   "display_name": "Python 3",
   "language": "python",
   "name": "python3"
  },
  "language_info": {
   "codemirror_mode": {
    "name": "ipython",
    "version": 3
   },
   "file_extension": ".py",
   "mimetype": "text/x-python",
   "name": "python",
   "nbconvert_exporter": "python",
   "pygments_lexer": "ipython3",
   "version": "3.7.3"
  }
 },
 "nbformat": 4,
 "nbformat_minor": 2
}
